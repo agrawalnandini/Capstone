{
  "nbformat": 4,
  "nbformat_minor": 0,
  "metadata": {
    "colab": {
      "name": "linearReg.ipynb",
      "provenance": [],
      "collapsed_sections": [],
      "include_colab_link": true
    },
    "kernelspec": {
      "name": "python3",
      "display_name": "Python 3"
    }
  },
  "cells": [
    {
      "cell_type": "markdown",
      "metadata": {
        "id": "view-in-github",
        "colab_type": "text"
      },
      "source": [
        "<a href=\"https://colab.research.google.com/github/prashanthi-r/capstone/blob/master/linearReg.ipynb\" target=\"_parent\"><img src=\"https://colab.research.google.com/assets/colab-badge.svg\" alt=\"Open In Colab\"/></a>"
      ]
    },
    {
      "cell_type": "code",
      "metadata": {
        "id": "u2VamYS79Xod"
      },
      "source": [
        "import numpy as np\n",
        "import pandas as pd\n",
        "from sklearn.datasets import load_boston \n",
        "from sklearn.model_selection import train_test_split\n",
        "import random\n",
        "import math\n",
        "import warnings"
      ],
      "execution_count": null,
      "outputs": []
    },
    {
      "cell_type": "code",
      "metadata": {
        "id": "U5beGZU69h6g"
      },
      "source": [
        "warnings.filterwarnings(\"ignore\", category=RuntimeWarning)"
      ],
      "execution_count": null,
      "outputs": []
    },
    {
      "cell_type": "code",
      "metadata": {
        "id": "mh6Wj9kBPMWF"
      },
      "source": [
        "weights = [1.65921924,1.62628418]\n",
        "bias = 0.96367349\n",
        "# bias = 0.0"
      ],
      "execution_count": null,
      "outputs": []
    },
    {
      "cell_type": "code",
      "metadata": {
        "id": "_zApnJw7QupB"
      },
      "source": [
        "x_train = [[4,1],[2,8],[1,0],[3,2],[1,4],[6,7]]\n",
        "y_train=[2,-14,1,-1,-7,-8]\n",
        "# x_train=[[1,4],[1,0],[6,7],[3,2],[4,1],[2,8]]\n",
        "# y_train=[-7,1,-8,-1,2,-14]"
      ],
      "execution_count": null,
      "outputs": []
    },
    {
      "cell_type": "code",
      "metadata": {
        "id": "OuM35VwoREIu",
        "colab": {
          "base_uri": "https://localhost:8080/"
        },
        "outputId": "210f3b22-40c3-4386-c2a3-4facbb581162"
      },
      "source": [
        "print(len(x_train))\n",
        "print(len(y_train))\n",
        "print(x_train[4])\n",
        "print(y_train[4])"
      ],
      "execution_count": null,
      "outputs": [
        {
          "output_type": "stream",
          "text": [
            "6\n",
            "6\n",
            "[1, 4]\n",
            "-7\n"
          ],
          "name": "stdout"
        }
      ]
    },
    {
      "cell_type": "code",
      "metadata": {
        "id": "HsLRhQBBcQeN",
        "colab": {
          "base_uri": "https://localhost:8080/"
        },
        "outputId": "c28db8a3-a31c-4fcc-b7c5-6db60870d029"
      },
      "source": [
        "print(weights)\n",
        "print(bias)"
      ],
      "execution_count": null,
      "outputs": [
        {
          "output_type": "stream",
          "text": [
            "[1.65921924, 1.62628418]\n",
            "0.96367349\n"
          ],
          "name": "stdout"
        }
      ]
    },
    {
      "cell_type": "code",
      "metadata": {
        "id": "MI84dsf8M9Tq"
      },
      "source": [
        "def sum(x,w):\n",
        "  return (np.dot(x,w))"
      ],
      "execution_count": null,
      "outputs": []
    },
    {
      "cell_type": "code",
      "metadata": {
        "id": "hW8k3qpwUsF8",
        "colab": {
          "base_uri": "https://localhost:8080/"
        },
        "outputId": "72cbbee0-fe49-46c9-f20f-0b287fa19fdf"
      },
      "source": [
        "#online learning\n",
        "epochs = 1\n",
        "eta = 0.01 #0.001\n",
        "e = 0\n",
        "while e<epochs:\n",
        "  epoch_loss = 0.0\n",
        "  for i in range(len(x_train)):\n",
        "    yhat = sum(x_train[i],weights) + bias \n",
        "    diff = yhat-y_train[i]\n",
        "    # print(yhat)\n",
        "    # print(y_train[i])\n",
        "    loss = (diff**2)\n",
        "    for j in range(len(weights)):\n",
        "      gradient = diff*x_train[i][j]\n",
        "      weights[j] = round(weights[j] - (eta*gradient),3)\n",
        "    bias = round(bias - (eta*diff),3)\n",
        "    print(weights)\n",
        "    epoch_loss = epoch_loss + loss\n",
        "  e += 1\n",
        "  if e == 1: \n",
        "    print(\"Initial loss: \", epoch_loss/len(x_train))\n",
        "  if e == epochs:\n",
        "    print(\"Final loss: \", epoch_loss/len(x_train))"
      ],
      "execution_count": null,
      "outputs": [
        {
          "output_type": "stream",
          "text": [
            "[1.37, 1.554]\n",
            "[0.769, -0.851]\n",
            "[0.765, -0.851]\n",
            "[0.7, -0.895]\n",
            "[0.653, -1.082]\n",
            "[0.361, -1.422]\n",
            "Initial loss:  167.74286779489455\n",
            "Final loss:  167.74286779489455\n"
          ],
          "name": "stdout"
        }
      ]
    },
    {
      "cell_type": "code",
      "metadata": {
        "id": "I5k7eXxz9Upe",
        "colab": {
          "base_uri": "https://localhost:8080/"
        },
        "outputId": "3f34b4bd-7349-47ff-f4e8-4729eaca8028"
      },
      "source": [
        "print(weights)"
      ],
      "execution_count": null,
      "outputs": [
        {
          "output_type": "stream",
          "text": [
            "[0.361, -1.422]\n"
          ],
          "name": "stdout"
        }
      ]
    },
    {
      "cell_type": "code",
      "metadata": {
        "id": "ukVFHCnOGMM_",
        "colab": {
          "base_uri": "https://localhost:8080/"
        },
        "outputId": "743371eb-9f2d-4f2e-d945-c61ff66f04df"
      },
      "source": [
        "print(bias)"
      ],
      "execution_count": null,
      "outputs": [
        {
          "output_type": "stream",
          "text": [
            "0.468\n"
          ],
          "name": "stdout"
        }
      ]
    },
    {
      "cell_type": "code",
      "metadata": {
        "id": "nO8cbL3RCs0S"
      },
      "source": [
        "def floattoint64(x):\n",
        "\t\tx = np.uint64((1<<16)*(x))\n",
        "\t\treturn x\n",
        "\n",
        "for i in range(2):\n",
        "  weights[i] = floattoint64(weights[i])"
      ],
      "execution_count": null,
      "outputs": []
    },
    {
      "cell_type": "code",
      "metadata": {
        "id": "iVhm343eC9FF",
        "colab": {
          "base_uri": "https://localhost:8080/"
        },
        "outputId": "9b9a0c55-4f52-4b67-ce65-c666b2a244b6"
      },
      "source": [
        "print(weights)"
      ],
      "execution_count": null,
      "outputs": [
        {
          "output_type": "stream",
          "text": [
            "[23658, 18446744073709458424]\n"
          ],
          "name": "stdout"
        }
      ]
    },
    {
      "cell_type": "code",
      "metadata": {
        "id": "9iB149TfscA1"
      },
      "source": [
        "#batch learning\n",
        "# epochs = 0\n",
        "# eta = 0.001\n",
        "# total_epochs=5\n",
        "# w=[0,0,0,0,0,0,0,0,0,0,0,0,0]\n",
        "# while epochs<total_epochs:\n",
        "#   epoch_loss = 0.0\n",
        "#   for i in range(len(x_train)):\n",
        "#     yhat = sum(weights,x_train[i]) \n",
        "#     diff = y_train[i] - yhat \n",
        "#     loss = (diff**2)\n",
        "#     for j in range(len(weights)):\n",
        "#       gradient = -2*diff*x_train[i][j]\n",
        "#       w[j] = w[j] + gradient\n",
        "\n",
        "#     epoch_loss = epoch_loss + loss\n",
        "#   weights = weights - np.multiply(eta/len(x_train),w)\n",
        "#   epochs += 1\n",
        "#   if epochs == 1: \n",
        "#     print(\"Initial loss: \", epoch_loss/len(x_train))\n",
        "#   elif epochs == total_epochs:\n",
        "#     print(\"Final loss: \", epoch_loss/len(x_train))"
      ],
      "execution_count": null,
      "outputs": []
    },
    {
      "cell_type": "code",
      "metadata": {
        "id": "wQu4kW20yStJ"
      },
      "source": [
        "# epochs = 0\n",
        "# eta = 0.001\n",
        "# while epochs<10:\n",
        "#   for i in range(len(x_train)):\n",
        "#     yhat = sum(x_train[i],weights) \n",
        "#     diff = (yhat-y_train[i])\n",
        "#     for j in range(13):\n",
        "#       weights[j] = weights[j] - (eta*diff*x_train[i][j])\n",
        "#     # np.round(weights, 8)\n",
        "#     loss = 0.0\n",
        "#     for k in range(len(x_train)):\n",
        "#       diff2 = ((sum(x_train[k],weights) - y_train[k])**2)/len(x_train)\n",
        "#       loss = loss + (diff2)\n",
        "#   # loss = round(loss,4)\n",
        "  \n",
        "#   epochs += 1\n",
        "#   # if epochs == 0: \n",
        "#   #   print(\"Initial loss: \", loss)\n",
        "#   # elif epochs == 1:\n",
        "#   #   print(\"Final loss: \", loss)"
      ],
      "execution_count": null,
      "outputs": []
    },
    {
      "cell_type": "code",
      "metadata": {
        "id": "2g9y_jM2QGnh"
      },
      "source": [
        "# epochs = 0\n",
        "# eta = 0.001\n",
        "# while epochs<10:\n",
        "#   loss = 0.0\n",
        "#   for i in range(len(x_train)):\n",
        "#     yhat = np.dot(weights,x_train[i]) \n",
        "#     diff = yhat-y_train[i]\n",
        "#     loss = loss + ((diff**2)/len(x_train))\n",
        "#     # print(x_train[i])\n",
        "#     for j in range(13):\n",
        "#       gradient= gradient+2*diff*x_train[i][j]   \n",
        "#       weights[j] = weights[j] - (eta*(gradient/len(x_train)))\n",
        "\n",
        "#   epochs=epochs+1\n",
        "   \n",
        "#   print('Loss for epoch is: ',loss/len(x_train))"
      ],
      "execution_count": null,
      "outputs": []
    },
    {
      "cell_type": "code",
      "metadata": {
        "id": "-TBnwuVrVqz0"
      },
      "source": [
        "#checking something - helper function\n",
        "def mul(a,b):\n",
        "  m = np.multiply(a,b)\n",
        "  print(m)  \n",
        "  print(m.shape)\n",
        "  print(np.subtract(np.array([-21,1,-11]),m))"
      ],
      "execution_count": null,
      "outputs": []
    },
    {
      "cell_type": "code",
      "metadata": {
        "id": "jyY5KAg2V4eU",
        "colab": {
          "base_uri": "https://localhost:8080/"
        },
        "outputId": "aa781827-2815-458c-e7f9-598ae39eceda"
      },
      "source": [
        "mul(-3.4,[101,192,123])"
      ],
      "execution_count": null,
      "outputs": [
        {
          "output_type": "stream",
          "text": [
            "[-343.4 -652.8 -418.2]\n",
            "(3,)\n",
            "[322.4 653.8 407.2]\n"
          ],
          "name": "stdout"
        }
      ]
    },
    {
      "cell_type": "code",
      "metadata": {
        "id": "4QLz_7TzTvuj",
        "colab": {
          "base_uri": "https://localhost:8080/"
        },
        "outputId": "41877c1e-8ad1-437a-eac4-636445f03ff6"
      },
      "source": [
        "np.multiply(2,[-13.23,-0.723,1.38]) - [1,2,3]"
      ],
      "execution_count": null,
      "outputs": [
        {
          "output_type": "execute_result",
          "data": {
            "text/plain": [
              "array([-27.46 ,  -3.446,  -0.24 ])"
            ]
          },
          "metadata": {
            "tags": []
          },
          "execution_count": 18
        }
      ]
    }
  ]
}